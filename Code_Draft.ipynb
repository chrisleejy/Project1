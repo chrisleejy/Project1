{
 "cells": [
  {
   "cell_type": "code",
   "execution_count": 10,
   "metadata": {},
   "outputs": [],
   "source": [
    "import panel as pn\n",
    "pn.extension('plotly')\n",
    "import plotly.express as px\n",
    "import pandas as pd\n",
    "import hvplot.pandas as hvplot\n",
    "import matplotlib.pyplot as plt\n",
    "import requests\n",
    "import os\n",
    "import csv\n",
    "from pathlib import Path\n",
    "from dotenv import load_dotenv\n",
    "import alpaca_trade_api as tradeapi\n",
    "from MCForecastTools import MCSimulation\n",
    "import numpy as np"
   ]
  },
  {
   "cell_type": "code",
   "execution_count": 11,
   "metadata": {},
   "outputs": [
    {
     "data": {
      "text/plain": [
       "True"
      ]
     },
     "execution_count": 11,
     "metadata": {},
     "output_type": "execute_result"
    }
   ],
   "source": [
    "load_dotenv()"
   ]
  },
  {
   "cell_type": "code",
   "execution_count": 3,
   "metadata": {},
   "outputs": [],
   "source": [
    "# Import API's/Data Sets "
   ]
  },
  {
   "cell_type": "code",
   "execution_count": 12,
   "metadata": {},
   "outputs": [
    {
     "name": "stdout",
     "output_type": "stream",
     "text": [
      "<class 'str'>\n",
      "<class 'str'>\n"
     ]
    }
   ],
   "source": [
    "alpaca_api_key = os.getenv(\"alpaca_api_key\")\n",
    "alpaca_secret_key = os.getenv(\"alpaca_secret_key\")\n",
    "print(type(alpaca_api_key))\n",
    "print(type(alpaca_secret_key))\n",
    "# Create the Alpaca API object\n",
    "api = tradeapi.REST(\n",
    "alpaca_api_key,\n",
    "    alpaca_secret_key,\n",
    "    api_version=\"v2\"\n",
    ")"
   ]
  },
  {
   "cell_type": "code",
   "execution_count": 13,
   "metadata": {},
   "outputs": [],
   "source": [
    "snp_path = Path('SP_100_Symbol.csv')\n",
    "tickers = []\n",
    "with open(snp_path, 'r') as cvsfile: \n",
    "    snp_reader = csv.reader(cvsfile, delimiter= ',')\n",
    "    header = next(snp_reader)   \n",
    "    \n",
    "    for column in snp_reader:\n",
    "#         print(row)\n",
    "        tickers.append(str(column[0]))\n",
    "#         print(tickers)"
   ]
  },
  {
   "cell_type": "markdown",
   "metadata": {},
   "source": [
    "## Please select your stocks to build your portfolio"
   ]
  },
  {
   "cell_type": "code",
   "execution_count": 14,
   "metadata": {},
   "outputs": [
    {
<<<<<<< HEAD:Code_Draft.ipynb
     "name": "stdout",
     "output_type": "stream",
     "text": [
      "You've selected AAPL\n",
      "You've selected ADBE\n",
      "You've selected AMGN\n",
      "You've selected BK\n"
=======
     "ename": "SyntaxError",
     "evalue": "invalid syntax (<ipython-input-14-704bbef05560>, line 4)",
     "output_type": "error",
     "traceback": [
      "\u001b[1;36m  File \u001b[1;32m\"<ipython-input-14-704bbef05560>\"\u001b[1;36m, line \u001b[1;32m4\u001b[0m\n\u001b[1;33m    snp_tickers = [''AAPL', 'ABBV', 'ABT', 'ACN', 'ADBE', 'AIG', 'ALL', 'AMGN', 'AMT', 'AMZN', 'AXP', 'BA', 'BAC', 'BIIB', 'BK', 'BKNG', 'BLK', 'BMY', 'BRK.B', 'C', 'CAT', 'CHTR', 'CL', 'CMCSA', 'COF', 'COP', 'COST', 'CRM', 'CSCO', 'CVS', 'CVX', 'DD', 'DHR', 'DIS', 'DOW', 'DUK', 'EMR', 'EXC', 'F', 'FB', 'FDX', 'GD', 'GE', 'GILD', 'GM', 'GOOG', 'GOOGL', 'GS', 'HD', 'HON', 'IBM', 'INTC', 'JNJ', 'JPM', 'KHC', 'KMI', 'KO', 'LLY', 'LMT', 'LOW', 'MA', 'MCD', 'MDLZ', 'MDT', 'MET', 'MMM', 'MO', 'MRK', 'MS', 'MSFT', 'NEE', 'NFLX', 'NKE', 'NVDA', 'ORCL', 'OXY', 'PEP', 'PFE', 'PG', 'PM', 'PYPL', 'QCOM', 'RTX', 'SBUX', 'SLB', 'SO', 'SPG', 'T', 'TGT', 'TMO', 'TXN', 'UNH', 'UNP', 'UPS', 'USB', 'V', 'VZ', 'WBA', 'WFC', 'WMT', 'XOM']\u001b[0m\n\u001b[1;37m                        ^\u001b[0m\n\u001b[1;31mSyntaxError\u001b[0m\u001b[1;31m:\u001b[0m invalid syntax\n"
>>>>>>> main:Code_Draft_Analysis.ipynb
     ]
    }
   ],
   "source": [
    "import tkinter\n",
    "from tkinter import *\n",
    "\n",
    "snp_tickers = [''AAPL', 'ABBV', 'ABT', 'ACN', 'ADBE', 'AIG', 'ALL', 'AMGN', 'AMT', 'AMZN', 'AXP', 'BA', 'BAC', 'BIIB', 'BK', 'BKNG', 'BLK', 'BMY', 'BRK.B', 'C', 'CAT', 'CHTR', 'CL', 'CMCSA', 'COF', 'COP', 'COST', 'CRM', 'CSCO', 'CVS', 'CVX', 'DD', 'DHR', 'DIS', 'DOW', 'DUK', 'EMR', 'EXC', 'F', 'FB', 'FDX', 'GD', 'GE', 'GILD', 'GM', 'GOOG', 'GOOGL', 'GS', 'HD', 'HON', 'IBM', 'INTC', 'JNJ', 'JPM', 'KHC', 'KMI', 'KO', 'LLY', 'LMT', 'LOW', 'MA', 'MCD', 'MDLZ', 'MDT', 'MET', 'MMM', 'MO', 'MRK', 'MS', 'MSFT', 'NEE', 'NFLX', 'NKE', 'NVDA', 'ORCL', 'OXY', 'PEP', 'PFE', 'PG', 'PM', 'PYPL', 'QCOM', 'RTX', 'SBUX', 'SLB', 'SO', 'SPG', 'T', 'TGT', 'TMO', 'TXN', 'UNH', 'UNP', 'UPS', 'USB', 'V', 'VZ', 'WBA', 'WFC', 'WMT', 'XOM']\n",
    "\n",
    "window_snp = tkinter.Tk()\n",
    "window_snp.title(\"S&P 100 Stocks\")\n",
    "label_snp = tkinter.Label(window_snp, text=\"Please choose up to 10 stocks from the following list\").pack()\n",
    "window_snp.geometry('700x400')\n",
    "\n",
    "\n",
    "clicked = StringVar(window_snp)\n",
    "clicked.set(snp_tickers[0]) # default value\n",
    "\n",
    "menu = OptionMenu(window_snp, clicked, *snp_tickers)\n",
    "menu.pack()\n",
    "\n",
    "stocks_chosen = []\n",
    "def stock_choice():\n",
    "    stocks_chosen.append(clicked.get())\n",
    "    print (\"You've selected \" + clicked.get())\n",
    "\n",
    "button = Button(window_snp, text=\"OK\", command=stock_choice)\n",
    "button.pack()\n",
    "\n",
    "mainloop()\n"
   ]
  },
  {
   "cell_type": "code",
   "execution_count": 7,
   "metadata": {},
   "outputs": [
    {
     "name": "stdout",
     "output_type": "stream",
     "text": [
      "['AAPL', 'ADBE', 'AMGN', 'BK']\n"
     ]
    }
   ],
   "source": [
    "stocks_chosen = list(dict.fromkeys(stocks_chosen))\n",
    "print(stocks_chosen)"
   ]
  },
  {
   "cell_type": "code",
   "execution_count": 8,
   "metadata": {},
   "outputs": [
    {
     "name": "stdout",
     "output_type": "stream",
     "text": [
      "You've selected Equal Weighting\n"
     ]
    }
   ],
   "source": [
    "weight_preferences = [\n",
    "    \"Equal Weighting\", \n",
    "    \"Choose Your Own Weight\"\n",
    "]\n",
    "\n",
    "window_weight = tkinter.Tk()\n",
    "window_weight.title(\"Weighting\")\n",
    "label_weight = tkinter.Label(window_weight, text=\"Please choose your weighting preferences\").pack()\n",
    "window_weight.geometry('700x400')\n",
    "\n",
    "\n",
    "clicked = StringVar(window_weight)\n",
    "clicked.set(weight_preferences[0]) # default value\n",
    "\n",
    "menu = OptionMenu(window_weight, clicked, *weight_preferences)\n",
    "menu.pack()\n",
    "\n",
    "weight_chosen = []\n",
    "def weight_choice():\n",
    "    weight_chosen.append(clicked.get())\n",
    "    print (\"You've selected \" + clicked.get())\n",
    "    \n",
    "    \n",
    "    \n",
    "button = Button(window_weight, text=\"OK\", command=weight_choice)\n",
    "button.pack()\n",
    "\n",
    "mainloop()\n"
   ]
  },
  {
   "cell_type": "code",
   "execution_count": 9,
   "metadata": {},
   "outputs": [
    {
     "name": "stdout",
     "output_type": "stream",
     "text": [
      "[0.25, 0.25, 0.25, 0.25]\n"
     ]
    }
   ],
   "source": [
    "#Equal Weighting\n",
    "if clicked.get() == \"Equal Weighting\":\n",
    "    sum_weight = len(stocks_chosen)\n",
    "    equal_weighting = 1 / sum_weight \n",
    "\n",
    "    weighting_list = []\n",
    "\n",
    "    for x in stocks_chosen:\n",
    "        weighting_list.append(equal_weighting)\n",
    "        if x == stocks_chosen[-1]: \n",
    "            print(weighting_list)\n",
    "\n",
    "            \n",
    "#Custom Weighting\n",
    "else:\n",
    "    root = tkinter.Tk()\n",
    "    root.title(\"Custom Weight\")\n",
    "    root.geometry(\"800x900\")\n",
    "\n",
    "\n",
    "    my_entries = []\n",
    "    def weight_custom():\n",
    "        entry_list = ''\n",
    "\n",
    "        for entries in my_entries:\n",
    "            entry_list = entry_list + str(entries.get()) + \"\\n\"\n",
    "            my_label.config(text=\"Your Weighting: \" + \"\\n\" + entry_list)\n",
    "\n",
    "        print(\"You're weighting for the portfolio is:\" \"\\n\" + (entry_list))\n",
    "\n",
    "\n",
    "    for x in range(len(stocks_chosen)):\n",
    "        my_entry = Entry(root)\n",
    "        my_entry.grid(row=x, column = 5, pady=20, padx=5)\n",
    "        my_entries.append(my_entry)\n",
    "\n",
    "       #PROBLEM 1\n",
    "        for y in stocks_chosen:\n",
    "            label2 = Label(root, text = y)\n",
    "            label2.grid(row = x, column=3, pady=20, padx=5)\n",
    "\n",
    "\n",
    "\n",
    "    my_button = Button(root, text = \"Done\", command =weight_custom)\n",
    "    my_button.grid(row=15, column=5, pady=20)\n",
    "\n",
    "    my_label = Label(root, text='Please put your custom weights percentage in decimal places up to 1.00')\n",
    "    my_label.grid(row=38, column=5, pady=20)\n",
    "    my_label.pack\n",
    "\n",
    "    root.mainloop()\n"
   ]
  },
  {
   "cell_type": "code",
   "execution_count": null,
   "metadata": {},
   "outputs": [],
   "source": []
  },
  {
   "cell_type": "code",
   "execution_count": null,
   "metadata": {},
   "outputs": [],
   "source": []
  },
  {
   "cell_type": "code",
   "execution_count": 10,
   "metadata": {},
   "outputs": [
    {
     "ename": "HTTPError",
     "evalue": "503 Server Error: Service Temporarily Unavailable for url: https://data.alpaca.markets/v1/bars/1D?symbols=AAPL%2CADBE%2CAMGN%2CBK&start=2020-08-14T00%3A00%3A00-04%3A00&end=2020-08-15T00%3A00%3A00-04%3A00",
     "output_type": "error",
     "traceback": [
      "\u001b[0;31m---------------------------------------------------------------------------\u001b[0m",
      "\u001b[0;31mHTTPError\u001b[0m                                 Traceback (most recent call last)",
      "\u001b[0;32m<ipython-input-10-03acbf8dcdba>\u001b[0m in \u001b[0;36m<module>\u001b[0;34m\u001b[0m\n\u001b[1;32m     15\u001b[0m     \u001b[0mtimeframe\u001b[0m\u001b[0;34m,\u001b[0m\u001b[0;34m\u001b[0m\u001b[0;34m\u001b[0m\u001b[0m\n\u001b[1;32m     16\u001b[0m     \u001b[0mstart\u001b[0m \u001b[0;34m=\u001b[0m \u001b[0mstart_date\u001b[0m\u001b[0;34m,\u001b[0m\u001b[0;34m\u001b[0m\u001b[0;34m\u001b[0m\u001b[0m\n\u001b[0;32m---> 17\u001b[0;31m     \u001b[0mend\u001b[0m \u001b[0;34m=\u001b[0m \u001b[0mend_date\u001b[0m\u001b[0;34m\u001b[0m\u001b[0;34m\u001b[0m\u001b[0m\n\u001b[0m\u001b[1;32m     18\u001b[0m ).df\n\u001b[1;32m     19\u001b[0m \u001b[0;34m\u001b[0m\u001b[0m\n",
      "\u001b[0;32m~/Documents/Anaconda/miniconda3/envs/pyvizenv/lib/python3.7/site-packages/alpaca_trade_api/rest.py\u001b[0m in \u001b[0;36mget_barset\u001b[0;34m(self, symbols, timeframe, limit, start, end, after, until)\u001b[0m\n\u001b[1;32m    454\u001b[0m         \u001b[0;32mif\u001b[0m \u001b[0muntil\u001b[0m \u001b[0;32mis\u001b[0m \u001b[0;32mnot\u001b[0m \u001b[0;32mNone\u001b[0m\u001b[0;34m:\u001b[0m\u001b[0;34m\u001b[0m\u001b[0;34m\u001b[0m\u001b[0m\n\u001b[1;32m    455\u001b[0m             \u001b[0mparams\u001b[0m\u001b[0;34m[\u001b[0m\u001b[0;34m'until'\u001b[0m\u001b[0;34m]\u001b[0m \u001b[0;34m=\u001b[0m \u001b[0muntil\u001b[0m\u001b[0;34m\u001b[0m\u001b[0;34m\u001b[0m\u001b[0m\n\u001b[0;32m--> 456\u001b[0;31m         \u001b[0mresp\u001b[0m \u001b[0;34m=\u001b[0m \u001b[0mself\u001b[0m\u001b[0;34m.\u001b[0m\u001b[0mdata_get\u001b[0m\u001b[0;34m(\u001b[0m\u001b[0;34m'/bars/{}'\u001b[0m\u001b[0;34m.\u001b[0m\u001b[0mformat\u001b[0m\u001b[0;34m(\u001b[0m\u001b[0mtimeframe\u001b[0m\u001b[0;34m)\u001b[0m\u001b[0;34m,\u001b[0m \u001b[0mparams\u001b[0m\u001b[0;34m)\u001b[0m\u001b[0;34m\u001b[0m\u001b[0;34m\u001b[0m\u001b[0m\n\u001b[0m\u001b[1;32m    457\u001b[0m         \u001b[0;32mreturn\u001b[0m \u001b[0mBarSet\u001b[0m\u001b[0;34m(\u001b[0m\u001b[0mresp\u001b[0m\u001b[0;34m)\u001b[0m\u001b[0;34m\u001b[0m\u001b[0;34m\u001b[0m\u001b[0m\n\u001b[1;32m    458\u001b[0m \u001b[0;34m\u001b[0m\u001b[0m\n",
      "\u001b[0;32m~/Documents/Anaconda/miniconda3/envs/pyvizenv/lib/python3.7/site-packages/alpaca_trade_api/rest.py\u001b[0m in \u001b[0;36mdata_get\u001b[0;34m(self, path, data)\u001b[0m\n\u001b[1;32m    171\u001b[0m         \u001b[0mbase_url\u001b[0m\u001b[0;34m:\u001b[0m \u001b[0mURL\u001b[0m \u001b[0;34m=\u001b[0m \u001b[0mget_data_url\u001b[0m\u001b[0;34m(\u001b[0m\u001b[0;34m)\u001b[0m\u001b[0;34m\u001b[0m\u001b[0;34m\u001b[0m\u001b[0m\n\u001b[1;32m    172\u001b[0m         return self._request(\n\u001b[0;32m--> 173\u001b[0;31m             \u001b[0;34m'GET'\u001b[0m\u001b[0;34m,\u001b[0m \u001b[0mpath\u001b[0m\u001b[0;34m,\u001b[0m \u001b[0mdata\u001b[0m\u001b[0;34m,\u001b[0m \u001b[0mbase_url\u001b[0m\u001b[0;34m=\u001b[0m\u001b[0mbase_url\u001b[0m\u001b[0;34m,\u001b[0m \u001b[0mapi_version\u001b[0m\u001b[0;34m=\u001b[0m\u001b[0;34m'v1'\u001b[0m\u001b[0;34m\u001b[0m\u001b[0;34m\u001b[0m\u001b[0m\n\u001b[0m\u001b[1;32m    174\u001b[0m         )\n\u001b[1;32m    175\u001b[0m \u001b[0;34m\u001b[0m\u001b[0m\n",
      "\u001b[0;32m~/Documents/Anaconda/miniconda3/envs/pyvizenv/lib/python3.7/site-packages/alpaca_trade_api/rest.py\u001b[0m in \u001b[0;36m_request\u001b[0;34m(self, method, path, data, base_url, api_version)\u001b[0m\n\u001b[1;32m    117\u001b[0m         \u001b[0;32mwhile\u001b[0m \u001b[0mretry\u001b[0m \u001b[0;34m>=\u001b[0m \u001b[0;36m0\u001b[0m\u001b[0;34m:\u001b[0m\u001b[0;34m\u001b[0m\u001b[0;34m\u001b[0m\u001b[0m\n\u001b[1;32m    118\u001b[0m             \u001b[0;32mtry\u001b[0m\u001b[0;34m:\u001b[0m\u001b[0;34m\u001b[0m\u001b[0;34m\u001b[0m\u001b[0m\n\u001b[0;32m--> 119\u001b[0;31m                 \u001b[0;32mreturn\u001b[0m \u001b[0mself\u001b[0m\u001b[0;34m.\u001b[0m\u001b[0m_one_request\u001b[0m\u001b[0;34m(\u001b[0m\u001b[0mmethod\u001b[0m\u001b[0;34m,\u001b[0m \u001b[0murl\u001b[0m\u001b[0;34m,\u001b[0m \u001b[0mopts\u001b[0m\u001b[0;34m,\u001b[0m \u001b[0mretry\u001b[0m\u001b[0;34m)\u001b[0m\u001b[0;34m\u001b[0m\u001b[0;34m\u001b[0m\u001b[0m\n\u001b[0m\u001b[1;32m    120\u001b[0m             \u001b[0;32mexcept\u001b[0m \u001b[0mRetryException\u001b[0m\u001b[0;34m:\u001b[0m\u001b[0;34m\u001b[0m\u001b[0;34m\u001b[0m\u001b[0m\n\u001b[1;32m    121\u001b[0m                 \u001b[0mretry_wait\u001b[0m \u001b[0;34m=\u001b[0m \u001b[0mself\u001b[0m\u001b[0;34m.\u001b[0m\u001b[0m_retry_wait\u001b[0m\u001b[0;34m\u001b[0m\u001b[0;34m\u001b[0m\u001b[0m\n",
      "\u001b[0;32m~/Documents/Anaconda/miniconda3/envs/pyvizenv/lib/python3.7/site-packages/alpaca_trade_api/rest.py\u001b[0m in \u001b[0;36m_one_request\u001b[0;34m(self, method, url, opts, retry)\u001b[0m\n\u001b[1;32m    138\u001b[0m         \u001b[0mresp\u001b[0m \u001b[0;34m=\u001b[0m \u001b[0mself\u001b[0m\u001b[0;34m.\u001b[0m\u001b[0m_session\u001b[0m\u001b[0;34m.\u001b[0m\u001b[0mrequest\u001b[0m\u001b[0;34m(\u001b[0m\u001b[0mmethod\u001b[0m\u001b[0;34m,\u001b[0m \u001b[0murl\u001b[0m\u001b[0;34m,\u001b[0m \u001b[0;34m**\u001b[0m\u001b[0mopts\u001b[0m\u001b[0;34m)\u001b[0m\u001b[0;34m\u001b[0m\u001b[0;34m\u001b[0m\u001b[0m\n\u001b[1;32m    139\u001b[0m         \u001b[0;32mtry\u001b[0m\u001b[0;34m:\u001b[0m\u001b[0;34m\u001b[0m\u001b[0;34m\u001b[0m\u001b[0m\n\u001b[0;32m--> 140\u001b[0;31m             \u001b[0mresp\u001b[0m\u001b[0;34m.\u001b[0m\u001b[0mraise_for_status\u001b[0m\u001b[0;34m(\u001b[0m\u001b[0;34m)\u001b[0m\u001b[0;34m\u001b[0m\u001b[0;34m\u001b[0m\u001b[0m\n\u001b[0m\u001b[1;32m    141\u001b[0m         \u001b[0;32mexcept\u001b[0m \u001b[0mHTTPError\u001b[0m \u001b[0;32mas\u001b[0m \u001b[0mhttp_error\u001b[0m\u001b[0;34m:\u001b[0m\u001b[0;34m\u001b[0m\u001b[0;34m\u001b[0m\u001b[0m\n\u001b[1;32m    142\u001b[0m             \u001b[0;31m# retry if we hit Rate Limit\u001b[0m\u001b[0;34m\u001b[0m\u001b[0;34m\u001b[0m\u001b[0;34m\u001b[0m\u001b[0m\n",
      "\u001b[0;32m~/Documents/Anaconda/miniconda3/envs/pyvizenv/lib/python3.7/site-packages/requests/models.py\u001b[0m in \u001b[0;36mraise_for_status\u001b[0;34m(self)\u001b[0m\n\u001b[1;32m    939\u001b[0m \u001b[0;34m\u001b[0m\u001b[0m\n\u001b[1;32m    940\u001b[0m         \u001b[0;32mif\u001b[0m \u001b[0mhttp_error_msg\u001b[0m\u001b[0;34m:\u001b[0m\u001b[0;34m\u001b[0m\u001b[0;34m\u001b[0m\u001b[0m\n\u001b[0;32m--> 941\u001b[0;31m             \u001b[0;32mraise\u001b[0m \u001b[0mHTTPError\u001b[0m\u001b[0;34m(\u001b[0m\u001b[0mhttp_error_msg\u001b[0m\u001b[0;34m,\u001b[0m \u001b[0mresponse\u001b[0m\u001b[0;34m=\u001b[0m\u001b[0mself\u001b[0m\u001b[0;34m)\u001b[0m\u001b[0;34m\u001b[0m\u001b[0;34m\u001b[0m\u001b[0m\n\u001b[0m\u001b[1;32m    942\u001b[0m \u001b[0;34m\u001b[0m\u001b[0m\n\u001b[1;32m    943\u001b[0m     \u001b[0;32mdef\u001b[0m \u001b[0mclose\u001b[0m\u001b[0;34m(\u001b[0m\u001b[0mself\u001b[0m\u001b[0;34m)\u001b[0m\u001b[0;34m:\u001b[0m\u001b[0;34m\u001b[0m\u001b[0;34m\u001b[0m\u001b[0m\n",
      "\u001b[0;31mHTTPError\u001b[0m: 503 Server Error: Service Temporarily Unavailable for url: https://data.alpaca.markets/v1/bars/1D?symbols=AAPL%2CADBE%2CAMGN%2CBK&start=2020-08-14T00%3A00%3A00-04%3A00&end=2020-08-15T00%3A00%3A00-04%3A00"
     ]
    }
   ],
   "source": [
    "# Format current date as ISO format\n",
    "start_date = pd.Timestamp(\"2020-08-14\", tz=\"America/New_York\").isoformat()\n",
    "end_date = pd.Timestamp(\"2020-08-15\", tz=\"America/New_York\").isoformat()\n",
    "\n",
    "# Set the tickers\n",
    "tickers = []\n",
    "tickers.extend(stocks_chosen)\n",
    "\n",
    "# Set timeframe to '1D' for Alpaca API\n",
    "timeframe = \"1D\"\n",
    "\n",
    "# Get current closing prices for SPY and AGG\n",
    "portfolio_df = api.get_barset(\n",
    "    tickers,\n",
    "    timeframe,\n",
    "    start = start_date,\n",
    "    end = end_date\n",
    ").df\n",
    "\n",
    "portfolio_df_closing_prices = pd.DataFrame()\n",
    "\n",
    "for ticker in tickers:\n",
    "    portfolio_df_closing_prices[ticker] = portfolio_df[ticker][\"close\"]\n",
    "\n",
    "portfolio_df_closing_prices.index = portfolio_df_closing_prices.index.date\n",
    "portfolio_df_closing_prices.head()"
   ]
  },
  {
   "cell_type": "code",
   "execution_count": null,
   "metadata": {},
   "outputs": [],
   "source": [
    "start_date = pd.Timestamp(\"2020-08-14\", tz=\"America/New_York\").isoformat()\n",
    "end_date = pd.Timestamp(\"2020-08-15\", tz=\"America/New_York\").isoformat()\n",
    "\n",
    "# Set the tickers\n",
    "tickers = ['AAPL', 'ABBV', 'ABT', 'ACN', 'ADBE', 'AIG', 'ALL', 'AMGN', 'AMT', 'AMZN', 'AXP', 'BA', 'BAC', 'BIIB', 'BK', 'BKNG', 'BLK', 'BMY', 'BRK.B', 'C', 'CAT', 'CHTR', 'CL', 'CMCSA', 'COF', 'COP', 'COST', 'CRM', 'CSCO', 'CVS', 'CVX', 'DD', 'DHR', 'DIS', 'DOW', 'DUK', 'EMR', 'EXC', 'F', 'FB', 'FDX', 'GD', 'GE', 'GILD', 'GM', 'GOOG', 'GOOGL', 'GS', 'HD', 'HON', 'IBM', 'INTC', 'JNJ', 'JPM', 'KHC', 'KMI', 'KO', 'LLY', 'LMT', 'LOW', 'MA', 'MCD', 'MDLZ', 'MDT', 'MET', 'MMM', 'MO', 'MRK', 'MS', 'MSFT', 'NEE', 'NFLX', 'NKE', 'NVDA', 'ORCL', 'OXY', 'PEP', 'PFE', 'PG', 'PM', 'PYPL', 'QCOM', 'RTX', 'SBUX', 'SLB', 'SO', 'SPG', 'T', 'TGT', 'TMO', 'TXN', 'UNH', 'UNP', 'UPS', 'USB', 'V', 'VZ', 'WBA', 'WFC', 'WMT', 'XOM']\n",
    "\n",
    "# Set timeframe to '1D' for Alpaca API\n",
    "timeframe = \"1D\"\n",
    "\n",
    "# Get current closing prices for SPY and AGG\n",
    "snp_df = api.get_barset(\n",
    "    tickers,\n",
    "    timeframe,\n",
    "    start = start_date,\n",
    "    end = end_date\n",
    ").df\n",
    "\n",
    "\n",
    "snp_df_closing_prices = pd.DataFrame()\n",
    "\n",
    "for ticker in tickers:\n",
    "    snp_df_closing_prices[ticker] = snp_df[ticker][\"close\"]\n",
    "\n",
    "snp_df_closing_prices.index = snp_df_closing_prices.index.date\n",
    "snp_df_closing_prices.head()"
   ]
  },
  {
   "cell_type": "code",
   "execution_count": null,
   "metadata": {},
   "outputs": [],
   "source": [
    "## Analysis"
   ]
  },
  {
   "cell_type": "code",
   "execution_count": null,
   "metadata": {},
   "outputs": [],
   "source": [
    "# Format current date as ISO format\n",
    "start_date = pd.Timestamp(\"2015-01-01\", tz=\"America/New_York\").isoformat()\n",
    "end_date = pd.Timestamp(\"2019-12-31\", tz=\"America/New_York\").isoformat()\n",
    "\n",
    "# Set the tickers\n",
    "tickers = []\n",
    "tickers.extend(stocks_chosen)\n",
    "\n",
    "# Set timeframe to '1D' for Alpaca API\n",
    "timeframe = \"1D\"\n",
    "\n",
    "# Get current closing prices for SPY and AGG\n",
    "portfolio_df = api.get_barset(\n",
    "    tickers,\n",
    "    timeframe,\n",
    "    start = start_date,\n",
    "    end = end_date\n",
    ").df\n",
    "\n",
    "portfolio_df_closing_prices = pd.DataFrame()\n",
    "\n",
    "for ticker in tickers:\n",
    "    portfolio_df_closing_prices[ticker] = portfolio_df[ticker][\"close\"]\n",
    "\n",
    "portfolio_df_closing_prices.index = portfolio_df_closing_prices.index.date\n",
    "portfolio_df_closing_prices.head()"
   ]
  },
  {
   "cell_type": "code",
   "execution_count": null,
   "metadata": {},
   "outputs": [],
   "source": [
    "daily_returns = portfolio_df_closing_prices.pct_change().dropna()\n",
    "daily_returns.head()"
   ]
  },
  {
   "cell_type": "code",
   "execution_count": null,
   "metadata": {},
   "outputs": [],
   "source": [
    "index = pd.DatetimeIndex(stocks.AAPL['date'])\n",
    "stock_df = pd.DataFrame({'IBM': stocks.IBM['close'], 'AAPL': stocks.AAPL['close']}, index=index)\n",
    "\n",
    "hvplot.lag_plot(stock_df, lag=365, alpha=0.3)"
   ]
  },
  {
   "cell_type": "code",
   "execution_count": null,
   "metadata": {},
   "outputs": [],
   "source": [
    "daily_std = daily_returns.std()\n",
    "daily_std.head()"
   ]
  },
  {
   "cell_type": "code",
   "execution_count": null,
   "metadata": {},
   "outputs": [],
   "source": [
    "volatility = daily_std * np.sqrt(252*5)\n",
    "volatility.sort_values(inplace=True)\n",
    "volatility.head()"
   ]
  },
  {
   "cell_type": "code",
   "execution_count": null,
   "metadata": {},
   "outputs": [],
   "source": [
    "daily_cumulative_returns = (1+daily_returns).cumprod()\n",
    "daily_cumulative_returns.head()"
   ]
  },
  {
   "cell_type": "code",
   "execution_count": null,
   "metadata": {},
   "outputs": [],
   "source": [
    "#calculating holding period return\n",
    "beg_prices =portfolio_df_closing_prices.iloc[0]\n",
    "end_prices = portfolio_df_closing_prices.iloc[-1]\n",
    "\n",
    "holding_prices = pd.concat([beg_prices, end_prices], axis = 1, join=\"outer\")\n",
    "holding_prices = holding_prices.transpose()\n",
    "\n",
    "holding_period_return = holding_prices.pct_change().dropna()\n",
    "holding_period_return"
   ]
  },
  {
   "cell_type": "code",
   "execution_count": null,
   "metadata": {},
   "outputs": [],
   "source": [
    "#hvplot.bar"
   ]
  },
  {
   "cell_type": "code",
   "execution_count": null,
   "metadata": {},
   "outputs": [],
   "source": [
    "#correlation \n",
    "correlation = daily_returns.corr()\n",
    "correlation"
   ]
  },
  {
   "cell_type": "code",
   "execution_count": null,
   "metadata": {},
   "outputs": [],
   "source": [
    "## Evaluating Reward-to-risk (Sharpe Ratio) of each stock\n",
    "sharpe_ratios = (daily_returns.mean() * 252*5) / volatility\n",
    "sharpe_ratios"
   ]
  },
  {
   "cell_type": "code",
   "execution_count": null,
   "metadata": {},
   "outputs": [],
   "source": [
    "#sharpe_ratios.plot(kind=\"bar\", title=\"Sharpe Ratios\")"
   ]
  },
  {
   "cell_type": "code",
   "execution_count": null,
   "metadata": {},
   "outputs": [],
   "source": [
    "#calculating the SNP Daily Returns for Beta\n",
    "\n",
    "start_date = pd.Timestamp(\"2015-01-01\", tz=\"America/New_York\").isoformat()\n",
    "end_date = pd.Timestamp(\"2019-12-31\", tz=\"America/New_York\").isoformat()\n",
    "\n",
    "# Set the tickers\n",
    "tickers = ['SPX']\n",
    "\n",
    "# Set timeframe to '1D' for Alpaca API\n",
    "timeframe = \"1D\"\n",
    "\n",
    "# Get current closing prices for SPY and AGG\n",
    "snp_index_df = api.get_barset(\n",
    "    tickers,\n",
    "    timeframe,\n",
    "    start = start_date,\n",
    "    end = end_date\n",
    ").df\n",
    "snp_index_df.head()\n",
    "snp_closing_prices = pd.DataFrame()\n",
    "snp_closing_prices[\"SPX\"] = snp_index_df[\"SPX\"][\"close\"]\n",
    "\n",
    "snp_closing_prices.index = snp_closing_prices.index.date\n",
    "\n",
    "snp_daily_returns = snp_closing_prices.pct_change().dropna()\n",
    "snp_daily_returns.head(10)"
   ]
  },
  {
   "cell_type": "code",
   "execution_count": null,
   "metadata": {},
   "outputs": [],
   "source": [
    "#beta \n",
    "beta_weights = [0.2, 0.2, 0.2, 0.2, 0.2]\n",
    "portfolio_returns = daily_returns.dot(beta_weights)\n",
    "covariance = portfolio_returns.cov(snp_daily_returns)\n",
    "variance = snp_daily_returns.var()\n",
    "\n",
    "beta = covariance / variance"
   ]
  },
  {
   "cell_type": "code",
   "execution_count": null,
   "metadata": {},
   "outputs": [],
   "source": [
    "#rolling_beta"
   ]
  },
  {
   "cell_type": "code",
   "execution_count": null,
   "metadata": {},
   "outputs": [],
   "source": [
    "#monte_carlo\n",
    "MC_dist = MCSimulation(\n",
    "    portfolio_data = stocks_chosen,\n",
    "    weights = beta_weights,\n",
    "    num_simulation = 1000,\n",
    "    num_trading_days = 252*\n",
    ")\n",
    "\n",
    "MC_dist.portfolio_data.head()\n"
   ]
  },
  {
   "cell_type": "code",
   "execution_count": null,
   "metadata": {},
   "outputs": [],
   "source": [
    "MC_dist.calc_cumulative_return()"
   ]
  },
  {
   "cell_type": "code",
   "execution_count": null,
   "metadata": {},
   "outputs": [],
   "source": [
    "\n",
    "even_tbl = MC_dist.summarize_cumulative_return()\n",
    "\n",
    "print(even_tbl)"
   ]
  },
  {
   "cell_type": "code",
   "execution_count": null,
   "metadata": {},
   "outputs": [],
   "source": [
    "even_ci_lower = round(even_tbl[8]*1000,2)\n",
    "even_ci_upper = round(even_tbl[9]*1000,2)\n",
    "\n",
    "print(f\"There is a 95% chance that an initial investment of $1,000 in the portfolio\"\n",
    "      f\" over the next 5 years will end within in the range of\"\n",
    "      f\" ${even_ci_lower} and ${even_ci_upper}.\")"
   ]
  },
  {
   "cell_type": "code",
   "execution_count": null,
   "metadata": {},
   "outputs": [],
   "source": [
    "line_plot = MC_even_dist.plot_simulation()"
   ]
  },
  {
   "cell_type": "code",
   "execution_count": null,
   "metadata": {},
   "outputs": [],
   "source": [
    "dist_plot = MC_even_dist.plot_distribution()"
   ]
  },
  {
   "cell_type": "code",
   "execution_count": null,
   "metadata": {},
   "outputs": [],
   "source": []
  },
  {
   "cell_type": "code",
   "execution_count": null,
   "metadata": {},
   "outputs": [],
   "source": []
  },
  {
   "cell_type": "code",
   "execution_count": null,
   "metadata": {},
   "outputs": [],
   "source": [
    "threshold_window = tkinter.Tk()\n",
    "threshold_window.title(\"Risk Assessment & Rebalancing Criteria\")\n",
    "threshold_label_1 = tkinter.Label(threshold_window, text=\"Please let us know how risk averse you are:\")\n",
    "\n",
    "risk_level = [\n",
    "    \"Low Risk\",\n",
    "    \"Low-Medium Risk\",\n",
    "    \"Medium Risk\",\n",
    "    \"Medium-High Risk\",\n",
    "    \"High Risk\"\n",
    "]\n",
    "\n",
    "threshold_clicked = StringVar()\n",
    "threshold_clicked.set(risk_level[0]) # default value\n",
    "threshold_menu = OptionMenu(threshold_window, threshold_clicked, *risk_level)\n",
    "\n",
    "threshold_label_1.grid(row=0, column=0)\n",
    "threshold_menu.grid(row=0, column=1)\n",
    "\n",
    "chosen_risk = []\n",
    "def risk_choice():\n",
    "    chosen_risk.append(threshold_clicked.get())\n",
    "    print (\"You've selected \" + threshold_clicked.get())\n",
    "    \n",
    "threshold_button_1 = tkinter.Button(threshold_window, text=\"Select level of risk\", command=risk_choice)\n",
    "threshold_button_1.grid(row=1, column=0)\n",
    "\n",
    "threshold_window.mainloop()"
   ]
  },
  {
   "cell_type": "code",
   "execution_count": null,
   "metadata": {},
   "outputs": [],
   "source": [
    "risk_dict = {\n",
    "    \"Low Risk\":{\n",
    "        \"Upper Threshold\": 0.01,\n",
    "        \"Lower Threshold\": 0.001,\n",
    "    },\n",
    "    \"Low-Medium Risk\":{\n",
    "        \"Upper Threshold\": 0.1,\n",
    "        \"Lower Threshold\": 0.01,\n",
    "    },\n",
    "    \"Medium Risk\":{\n",
    "        \"Upper Threshold\": 0.3,\n",
    "        \"Lower Threshold\": 0.1,\n",
    "    },\n",
    "    \"Medium-High Risk\":{\n",
    "        \"Upper Threshold\": 0.5,\n",
    "        \"Lower Threshold\": 0.3,\n",
    "    },\n",
    "    \"High Risk\":{\n",
    "        \"Upper Threshold\": 0.7,\n",
    "        \"Lower Threshold\": 0.5,\n",
    "    },\n",
    "}"
   ]
  },
  {
   "cell_type": "code",
   "execution_count": null,
   "metadata": {},
   "outputs": [],
   "source": [
    "if chosen_risk == risk_dict[0]:\n",
    "    print(f\"We do not recommend the following {stock} because it's volatility is too high )\n",
    "    print(f\"However, we do recommend the following {stock} because it is highly correlated but with less volatility.\")\n",
    "elif chosen_risk == risk_dict[1]:\n",
    "    print(f\"We do not recommend the following {stock} because it's volatility is just a bit high based off of your preferences and our calculations.\")\n",
    "    print(f\"However, we do recommend the following {stock} because it is highly correlated but with less volatility.\")\n",
    "elif chosen_risk == risk_dict[2]:\n",
    "    print(f\"We do not recommend the following {stock} because it's volatility is just a bit high based off of your preferences and our calculations.\")\n",
    "    print(f\"However, we do recommend the following {stock} because it is highly correlated but with less volatility.\")\n",
    "elif chosen_risk == risk_dict[3]:\n",
    "    print(f\"We do not recommend the following {stock} because it's volatility is just a bit low based off of your preferences and our calculations.\")\n",
    "    print(f\"However, we do recommend the following {stock} because it is highly correlated but with more volatility.\")\n",
    "elif chosen_risk == risk_dict[4]:\n",
    "    print(f\"We do not recommend the following {stock} because it's volatility is just a bit low based off of your preferences and our calculations.\")\n",
    "    print(f\"However, we do recommend the following {stock} because it is highly correlated but with more volatility.\")"
   ]
  },
  {
   "cell_type": "code",
   "execution_count": null,
   "metadata": {},
   "outputs": [],
   "source": []
  }
 ],
 "metadata": {
  "kernelspec": {
   "display_name": "Python [conda env:pyvizenv] *",
   "language": "python",
   "name": "conda-env-pyvizenv-py"
  },
  "language_info": {
   "codemirror_mode": {
    "name": "ipython",
    "version": 3
   },
   "file_extension": ".py",
   "mimetype": "text/x-python",
   "name": "python",
   "nbconvert_exporter": "python",
   "pygments_lexer": "ipython3",
   "version": "3.7.7"
  }
 },
 "nbformat": 4,
 "nbformat_minor": 4
}
