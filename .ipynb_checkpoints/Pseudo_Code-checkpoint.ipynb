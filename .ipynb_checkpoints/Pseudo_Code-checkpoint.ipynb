{
 "cells": [
  {
   "cell_type": "code",
   "execution_count": 1,
   "metadata": {},
   "outputs": [],
   "source": [
    "# Import Libraries"
   ]
  },
  {
   "cell_type": "code",
   "execution_count": 2,
   "metadata": {},
   "outputs": [],
   "source": [
    "# Import API's/Data Sets "
   ]
  },
  {
   "cell_type": "code",
   "execution_count": 3,
   "metadata": {},
   "outputs": [],
   "source": [
    "# Clean Data"
   ]
  },
  {
   "cell_type": "code",
   "execution_count": 4,
   "metadata": {},
   "outputs": [],
   "source": [
    "# Create interactive drop down panel/ panels to select stocks"
   ]
  },
  {
   "cell_type": "code",
   "execution_count": null,
   "metadata": {},
   "outputs": [],
   "source": [
    "#NEW:  Maybe #13 will go here.    Give historical valuation data to users for their stock selection.   As an example current P/E for Stock X is ____  vs. historical mean ____, \n",
    "#historical range of  ________   to  _______.   Then we could show 1 plot per stock showing 3 historical valuation metrics at this point."
   ]
  },
  {
   "cell_type": "code",
   "execution_count": 5,
   "metadata": {},
   "outputs": [],
   "source": [
    "# Create function to loop through selected stock data "
   ]
  },
  {
   "cell_type": "code",
   "execution_count": 6,
   "metadata": {},
   "outputs": [],
   "source": [
    "# Create interactive portion for threshold for trade execution"
   ]
  },
  {
   "cell_type": "code",
   "execution_count": 7,
   "metadata": {},
   "outputs": [],
   "source": [
    "# Create for loop/if statements for thresholds for trade execution "
   ]
  },
  {
   "cell_type": "code",
   "execution_count": 8,
   "metadata": {},
   "outputs": [],
   "source": [
    "# Begin Analysis\n",
    "# Volatitity - plot - add to dashboard"
   ]
  },
  {
   "cell_type": "code",
   "execution_count": 9,
   "metadata": {},
   "outputs": [],
   "source": [
    "# Cumulative returns - plot - add to dashboard"
   ]
  },
  {
   "cell_type": "code",
   "execution_count": 15,
   "metadata": {},
   "outputs": [],
   "source": [
    "# Create if statements for performing MC sim based on stock's volatility - only perform MC Sim if selected stock's volatility is > x: \n",
    "# if not, do not perform MC Sim\n",
    "# Monte Carlo Sim - plot - add to dashboard\n",
    "#NEW:   need to calculate Std. dev. for each stock which is done.    Now need to rank order std dev from 1 to 100.   We could make a rule that for Simulation to be run,\n",
    "# their portolio std. dev must be < stock #51 (i.e. in the bottom half)."
   ]
  },
  {
   "cell_type": "code",
   "execution_count": 10,
   "metadata": {},
   "outputs": [],
   "source": [
    "# Correlation - plot - add to dashboard "
   ]
  },
  {
   "cell_type": "code",
   "execution_count": 11,
   "metadata": {},
   "outputs": [],
   "source": [
    "# Sharpe Ratios - plot - add to dashboard"
   ]
  },
  {
   "cell_type": "code",
   "execution_count": 12,
   "metadata": {},
   "outputs": [],
   "source": [
    "# Potentially add another algorithmic trading strategy like mean reversion or momentum? - plot - add to dashboard"
   ]
  },
  {
   "cell_type": "code",
   "execution_count": 13,
   "metadata": {},
   "outputs": [],
   "source": [
    "# Price per earnings ratio - plot - add to dashboard #NEW  might switch this to #4"
   ]
  },
  {
   "cell_type": "code",
   "execution_count": 14,
   "metadata": {},
   "outputs": [],
   "source": [
    "# Print if statements on dashboard "
   ]
  },
  {
   "cell_type": "code",
   "execution_count": null,
   "metadata": {},
   "outputs": [],
   "source": [
    "# STATUS UPDATE   NOV 7/20\n",
    "#Alpac is down for maintenance\n",
    "#1 - #4 is complete\n",
    "#4.5  dataframe is completed\n",
    "#4.5  charting functions are done, but line charts are \"boxy\" because the data is monthly and volatile.\n",
    "#4.5  we need a statistical table that gives mean, high, low, and range of historical valuation metric.   This table will be used to give the user \n",
    "#     context of how their stock picks' current valuation (as determined by the most recent data point) compares to its historical range and mean\n",
    "#5    Not sure.\n",
    "#6    Partially done.   Need to figure out to display the weights on the drop down.\n",
    "#7    I don't think this is done.\n",
    "#8    Mostly done.\n",
    "#9    Hopefully completed today.\n",
    "#10   Hopefully completed today.\n",
    "#11   Hopefully completed today.\n",
    "#9 - #11   When charts are completed, we actually have to create a dashboard.\n",
    "#12   NOT DONE.\n",
    "#13   Moved to #4.5.\n",
    "#14   NOT DONE.\n",
    "#15   Write up presentation  - in Progress.\n",
    "#16   Practice presentation on Tuesday."
   ]
  }
 ],
 "metadata": {
  "kernelspec": {
   "display_name": "Python [conda env:pyvizenv] *",
   "language": "python",
   "name": "conda-env-pyvizenv-py"
  },
  "language_info": {
   "codemirror_mode": {
    "name": "ipython",
    "version": 3
   },
   "file_extension": ".py",
   "mimetype": "text/x-python",
   "name": "python",
   "nbconvert_exporter": "python",
   "pygments_lexer": "ipython3",
   "version": "3.7.7"
  }
 },
 "nbformat": 4,
 "nbformat_minor": 4
}
