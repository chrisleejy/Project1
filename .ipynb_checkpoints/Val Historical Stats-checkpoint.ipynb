{
 "cells": [
  {
   "cell_type": "code",
   "execution_count": 10,
   "metadata": {},
   "outputs": [],
   "source": [
    "import panel as pn\n",
    "pn.extension('plotly')\n",
    "import plotly.express as px\n",
    "import pandas as pd\n",
    "import hvplot.pandas as hvplot\n",
    "import matplotlib.pyplot as plt\n",
    "import requests\n",
    "import os\n",
    "import csv\n",
    "from pathlib import Path\n",
    "from dotenv import load_dotenv\n",
    "import alpaca_trade_api as tradeapi\n",
    "from MCForecastTools import MCSimulation\n",
    "import numpy as np"
   ]
  },
  {
   "cell_type": "code",
   "execution_count": 11,
   "metadata": {},
   "outputs": [
    {
     "data": {
      "text/plain": [
       "True"
      ]
     },
     "execution_count": 11,
     "metadata": {},
     "output_type": "execute_result"
    }
   ],
   "source": [
    "load_dotenv()"
   ]
  },
  {
   "cell_type": "code",
   "execution_count": 3,
   "metadata": {},
   "outputs": [],
   "source": [
    "# Import API's/Data Sets "
   ]
  },
  {
   "cell_type": "code",
   "execution_count": 12,
   "metadata": {},
   "outputs": [
    {
     "name": "stdout",
     "output_type": "stream",
     "text": [
      "<class 'str'>\n",
      "<class 'str'>\n"
     ]
    }
   ],
   "source": [
    "alpaca_api_key = os.getenv(\"alpaca_api_key\")\n",
    "alpaca_secret_key = os.getenv(\"alpaca_secret_key\")\n",
    "print(type(alpaca_api_key))\n",
    "print(type(alpaca_secret_key))\n",
    "# Create the Alpaca API object\n",
    "api = tradeapi.REST(\n",
    "alpaca_api_key,\n",
    "    alpaca_secret_key,\n",
    "    api_version=\"v2\"\n",
    ")"
   ]
  },
  {
   "cell_type": "code",
   "execution_count": 13,
   "metadata": {},
   "outputs": [],
   "source": [
    "snp_path = Path('SP_100_Symbol.csv')\n",
    "tickers = []\n",
    "with open(snp_path, 'r') as cvsfile: \n",
    "    snp_reader = csv.reader(cvsfile, delimiter= ',')\n",
    "    header = next(snp_reader)   \n",
    "    \n",
    "    for column in snp_reader:\n",
    "#         print(row)\n",
    "        tickers.append(str(column[0]))\n",
    "#         print(tickers)"
   ]
  },
  {
   "cell_type": "markdown",
   "metadata": {},
   "source": [
    "## Please select your stocks to build your portfolio"
   ]
  },
  {
   "cell_type": "code",
   "execution_count": 14,
   "metadata": {},
   "outputs": [
    {
     "ename": "SyntaxError",
     "evalue": "invalid syntax (<ipython-input-14-704bbef05560>, line 4)",
     "output_type": "error",
     "traceback": [
      "\u001b[1;36m  File \u001b[1;32m\"<ipython-input-14-704bbef05560>\"\u001b[1;36m, line \u001b[1;32m4\u001b[0m\n\u001b[1;33m    snp_tickers = [''AAPL', 'ABBV', 'ABT', 'ACN', 'ADBE', 'AIG', 'ALL', 'AMGN', 'AMT', 'AMZN', 'AXP', 'BA', 'BAC', 'BIIB', 'BK', 'BKNG', 'BLK', 'BMY', 'BRK.B', 'C', 'CAT', 'CHTR', 'CL', 'CMCSA', 'COF', 'COP', 'COST', 'CRM', 'CSCO', 'CVS', 'CVX', 'DD', 'DHR', 'DIS', 'DOW', 'DUK', 'EMR', 'EXC', 'F', 'FB', 'FDX', 'GD', 'GE', 'GILD', 'GM', 'GOOG', 'GOOGL', 'GS', 'HD', 'HON', 'IBM', 'INTC', 'JNJ', 'JPM', 'KHC', 'KMI', 'KO', 'LLY', 'LMT', 'LOW', 'MA', 'MCD', 'MDLZ', 'MDT', 'MET', 'MMM', 'MO', 'MRK', 'MS', 'MSFT', 'NEE', 'NFLX', 'NKE', 'NVDA', 'ORCL', 'OXY', 'PEP', 'PFE', 'PG', 'PM', 'PYPL', 'QCOM', 'RTX', 'SBUX', 'SLB', 'SO', 'SPG', 'T', 'TGT', 'TMO', 'TXN', 'UNH', 'UNP', 'UPS', 'USB', 'V', 'VZ', 'WBA', 'WFC', 'WMT', 'XOM']\u001b[0m\n\u001b[1;37m                        ^\u001b[0m\n\u001b[1;31mSyntaxError\u001b[0m\u001b[1;31m:\u001b[0m invalid syntax\n"
     ]
    }
   ],
   "source": [
    "import tkinter\n",
    "from tkinter import *\n",
    "\n",
    "snp_tickers = [''AAPL', 'ABBV', 'ABT', 'ACN', 'ADBE', 'AIG', 'ALL', 'AMGN', 'AMT', 'AMZN', 'AXP', 'BA', 'BAC', 'BIIB', 'BK', 'BKNG', 'BLK', 'BMY', 'BRK.B', 'C', 'CAT', 'CHTR', 'CL', 'CMCSA', 'COF', 'COP', 'COST', 'CRM', 'CSCO', 'CVS', 'CVX', 'DD', 'DHR', 'DIS', 'DOW', 'DUK', 'EMR', 'EXC', 'F', 'FB', 'FDX', 'GD', 'GE', 'GILD', 'GM', 'GOOG', 'GOOGL', 'GS', 'HD', 'HON', 'IBM', 'INTC', 'JNJ', 'JPM', 'KHC', 'KMI', 'KO', 'LLY', 'LMT', 'LOW', 'MA', 'MCD', 'MDLZ', 'MDT', 'MET', 'MMM', 'MO', 'MRK', 'MS', 'MSFT', 'NEE', 'NFLX', 'NKE', 'NVDA', 'ORCL', 'OXY', 'PEP', 'PFE', 'PG', 'PM', 'PYPL', 'QCOM', 'RTX', 'SBUX', 'SLB', 'SO', 'SPG', 'T', 'TGT', 'TMO', 'TXN', 'UNH', 'UNP', 'UPS', 'USB', 'V', 'VZ', 'WBA', 'WFC', 'WMT', 'XOM']\n",
    "\n",
    "window_snp = tkinter.Tk()\n",
    "window_snp.title(\"S&P 100 Stocks\")\n",
    "label_snp = tkinter.Label(window_snp, text=\"Please choose up to 10 stocks from the following list\").pack()\n",
    "window_snp.geometry('700x400')\n",
    "\n",
    "\n",
    "clicked = StringVar(window_snp)\n",
    "clicked.set(snp_tickers[0]) # default value\n",
    "\n",
    "menu = OptionMenu(window_snp, clicked, *snp_tickers)\n",
    "menu.pack()\n",
    "\n",
    "stocks_chosen = []\n",
    "def stock_choice():\n",
    "    stocks_chosen.append(clicked.get())\n",
    "    print (\"You've selected \" + clicked.get())\n",
    "\n",
    "button = Button(window_snp, text=\"OK\", command=stock_choice)\n",
    "button.pack()\n",
    "\n",
    "mainloop()\n"
   ]
  },
  {
   "cell_type": "code",
   "execution_count": 7,
   "metadata": {},
   "outputs": [
    {
     "name": "stdout",
     "output_type": "stream",
     "text": [
      "['AAPL', 'ALL', 'BAC', 'BMY']\n"
     ]
    }
   ],
   "source": [
    "stocks_chosen = list(dict.fromkeys(stocks_chosen))\n",
    "print(stocks_chosen)"
   ]
  },
  {
   "cell_type": "code",
   "execution_count": 8,
   "metadata": {},
   "outputs": [
    {
     "data": {
      "text/html": [
       "<div>\n",
       "<style scoped>\n",
       "    .dataframe tbody tr th:only-of-type {\n",
       "        vertical-align: middle;\n",
       "    }\n",
       "\n",
       "    .dataframe tbody tr th {\n",
       "        vertical-align: top;\n",
       "    }\n",
       "\n",
       "    .dataframe thead th {\n",
       "        text-align: right;\n",
       "    }\n",
       "</style>\n",
       "<table border=\"1\" class=\"dataframe\">\n",
       "  <thead>\n",
       "    <tr style=\"text-align: right;\">\n",
       "      <th></th>\n",
       "      <th>AAPL</th>\n",
       "      <th>ALL</th>\n",
       "      <th>BAC</th>\n",
       "      <th>BMY</th>\n",
       "    </tr>\n",
       "  </thead>\n",
       "  <tbody>\n",
       "    <tr>\n",
       "      <th>2020-08-14</th>\n",
       "      <td>459.78</td>\n",
       "      <td>96.11</td>\n",
       "      <td>26.47</td>\n",
       "      <td>63.16</td>\n",
       "    </tr>\n",
       "  </tbody>\n",
       "</table>\n",
       "</div>"
      ],
      "text/plain": [
       "              AAPL    ALL    BAC    BMY\n",
       "2020-08-14  459.78  96.11  26.47  63.16"
      ]
     },
     "execution_count": 8,
     "metadata": {},
     "output_type": "execute_result"
    }
   ],
   "source": [
    "# Format current date as ISO format\n",
    "start_date = pd.Timestamp(\"2020-08-14\", tz=\"America/New_York\").isoformat()\n",
    "end_date = pd.Timestamp(\"2020-08-15\", tz=\"America/New_York\").isoformat()\n",
    "\n",
    "# Set the tickers\n",
    "tickers = []\n",
    "tickers.extend(stocks_chosen)\n",
    "\n",
    "# Set timeframe to '1D' for Alpaca API\n",
    "timeframe = \"1D\"\n",
    "\n",
    "# Get current closing prices for SPY and AGG\n",
    "portfolio_df = api.get_barset(\n",
    "    tickers,\n",
    "    timeframe,\n",
    "    start = start_date,\n",
    "    end = end_date\n",
    ").df\n",
    "\n",
    "portfolio_df_closing_prices = pd.DataFrame()\n",
    "\n",
    "for ticker in tickers:\n",
    "    portfolio_df_closing_prices[ticker] = portfolio_df[ticker][\"close\"]\n",
    "\n",
    "portfolio_df_closing_prices.index = portfolio_df_closing_prices.index.date\n",
    "portfolio_df_closing_prices.head()"
   ]
  },
  {
   "cell_type": "code",
   "execution_count": 9,
   "metadata": {},
   "outputs": [
    {
     "data": {
      "text/html": [
       "<div>\n",
       "<style scoped>\n",
       "    .dataframe tbody tr th:only-of-type {\n",
       "        vertical-align: middle;\n",
       "    }\n",
       "\n",
       "    .dataframe tbody tr th {\n",
       "        vertical-align: top;\n",
       "    }\n",
       "\n",
       "    .dataframe thead th {\n",
       "        text-align: right;\n",
       "    }\n",
       "</style>\n",
       "<table border=\"1\" class=\"dataframe\">\n",
       "  <thead>\n",
       "    <tr style=\"text-align: right;\">\n",
       "      <th></th>\n",
       "      <th>AAPL</th>\n",
       "      <th>ABBV</th>\n",
       "      <th>ABT</th>\n",
       "      <th>ACN</th>\n",
       "      <th>ADBE</th>\n",
       "      <th>AIG</th>\n",
       "      <th>ALL</th>\n",
       "      <th>AMGN</th>\n",
       "      <th>AMT</th>\n",
       "      <th>AMZN</th>\n",
       "      <th>...</th>\n",
       "      <th>UNH</th>\n",
       "      <th>UNP</th>\n",
       "      <th>UPS</th>\n",
       "      <th>USB</th>\n",
       "      <th>V</th>\n",
       "      <th>VZ</th>\n",
       "      <th>WBA</th>\n",
       "      <th>WFC</th>\n",
       "      <th>WMT</th>\n",
       "      <th>XOM</th>\n",
       "    </tr>\n",
       "  </thead>\n",
       "  <tbody>\n",
       "    <tr>\n",
       "      <th>2020-08-14</th>\n",
       "      <td>459.78</td>\n",
       "      <td>95.11</td>\n",
       "      <td>99.99</td>\n",
       "      <td>NaN</td>\n",
       "      <td>447.5</td>\n",
       "      <td>31</td>\n",
       "      <td>96.11</td>\n",
       "      <td>239.71</td>\n",
       "      <td>250.12</td>\n",
       "      <td>3148</td>\n",
       "      <td>...</td>\n",
       "      <td>323.86</td>\n",
       "      <td>191.92</td>\n",
       "      <td>160.74</td>\n",
       "      <td>37.78</td>\n",
       "      <td>196.63</td>\n",
       "      <td>58.79</td>\n",
       "      <td>41.905</td>\n",
       "      <td>25.3</td>\n",
       "      <td>NaN</td>\n",
       "      <td>43.21</td>\n",
       "    </tr>\n",
       "  </tbody>\n",
       "</table>\n",
       "<p>1 rows × 101 columns</p>\n",
       "</div>"
      ],
      "text/plain": [
       "              AAPL   ABBV    ABT  ACN   ADBE  AIG    ALL    AMGN     AMT  \\\n",
       "2020-08-14  459.78  95.11  99.99  NaN  447.5   31  96.11  239.71  250.12   \n",
       "\n",
       "            AMZN  ...     UNH     UNP     UPS    USB       V     VZ     WBA  \\\n",
       "2020-08-14  3148  ...  323.86  191.92  160.74  37.78  196.63  58.79  41.905   \n",
       "\n",
       "             WFC  WMT    XOM  \n",
       "2020-08-14  25.3  NaN  43.21  \n",
       "\n",
       "[1 rows x 101 columns]"
      ]
     },
     "execution_count": 9,
     "metadata": {},
     "output_type": "execute_result"
    }
   ],
   "source": [
    "start_date = pd.Timestamp(\"2020-08-14\", tz=\"America/New_York\").isoformat()\n",
    "end_date = pd.Timestamp(\"2020-08-15\", tz=\"America/New_York\").isoformat()\n",
    "\n",
    "# Set the tickers\n",
    "tickers = ['AAPL', 'ABBV', 'ABT', 'ACN', 'ADBE', 'AIG', 'ALL', 'AMGN', 'AMT', 'AMZN', 'AXP', 'BA', 'BAC', 'BIIB', 'BK', 'BKNG', 'BLK', 'BMY', 'BRK.B', 'C', 'CAT', 'CHTR', 'CL', 'CMCSA', 'COF', 'COP', 'COST', 'CRM', 'CSCO', 'CVS', 'CVX', 'DD', 'DHR', 'DIS', 'DOW', 'DUK', 'EMR', 'EXC', 'F', 'FB', 'FDX', 'GD', 'GE', 'GILD', 'GM', 'GOOG', 'GOOGL', 'GS', 'HD', 'HON', 'IBM', 'INTC', 'JNJ', 'JPM', 'KHC', 'KMI', 'KO', 'LLY', 'LMT', 'LOW', 'MA', 'MCD', 'MDLZ', 'MDT', 'MET', 'MMM', 'MO', 'MRK', 'MS', 'MSFT', 'NEE', 'NFLX', 'NKE', 'NVDA', 'ORCL', 'OXY', 'PEP', 'PFE', 'PG', 'PM', 'PYPL', 'QCOM', 'RTX', 'SBUX', 'SLB', 'SO', 'SPG', 'T', 'TGT', 'TMO', 'TXN', 'UNH', 'UNP', 'UPS', 'USB', 'V', 'VZ', 'WBA', 'WFC', 'WMT', 'XOM']\n",
    "\n",
    "# Set timeframe to '1D' for Alpaca API\n",
    "timeframe = \"1D\"\n",
    "\n",
    "# Get current closing prices for SPY and AGG\n",
    "snp_df = api.get_barset(\n",
    "    tickers,\n",
    "    timeframe,\n",
    "    start = start_date,\n",
    "    end = end_date\n",
    ").df\n",
    "\n",
    "\n",
    "snp_df_closing_prices = pd.DataFrame()\n",
    "\n",
    "for ticker in tickers:\n",
    "    snp_df_closing_prices[ticker] = snp_df[ticker][\"close\"]\n",
    "\n",
    "snp_df_closing_prices.index = snp_df_closing_prices.index.date\n",
    "snp_df_closing_prices.head()"
   ]
  },
  {
   "cell_type": "code",
   "execution_count": 38,
   "metadata": {},
   "outputs": [],
   "source": [
    "## Analysis"
   ]
  },
  {
   "cell_type": "code",
   "execution_count": 23,
   "metadata": {},
   "outputs": [
    {
     "data": {
      "text/html": [
       "<div>\n",
       "<style scoped>\n",
       "    .dataframe tbody tr th:only-of-type {\n",
       "        vertical-align: middle;\n",
       "    }\n",
       "\n",
       "    .dataframe tbody tr th {\n",
       "        vertical-align: top;\n",
       "    }\n",
       "\n",
       "    .dataframe thead th {\n",
       "        text-align: right;\n",
       "    }\n",
       "</style>\n",
       "<table border=\"1\" class=\"dataframe\">\n",
       "  <thead>\n",
       "    <tr style=\"text-align: right;\">\n",
       "      <th></th>\n",
       "      <th>AAPL</th>\n",
       "      <th>ALL</th>\n",
       "      <th>BAC</th>\n",
       "      <th>BMY</th>\n",
       "    </tr>\n",
       "  </thead>\n",
       "  <tbody>\n",
       "    <tr>\n",
       "      <th>2017-01-03</th>\n",
       "      <td>116.14</td>\n",
       "      <td>74.17</td>\n",
       "      <td>22.5300</td>\n",
       "      <td>59.470</td>\n",
       "    </tr>\n",
       "    <tr>\n",
       "      <th>2017-01-04</th>\n",
       "      <td>116.02</td>\n",
       "      <td>72.42</td>\n",
       "      <td>22.9435</td>\n",
       "      <td>59.140</td>\n",
       "    </tr>\n",
       "    <tr>\n",
       "      <th>2017-01-05</th>\n",
       "      <td>116.61</td>\n",
       "      <td>72.09</td>\n",
       "      <td>22.6700</td>\n",
       "      <td>60.130</td>\n",
       "    </tr>\n",
       "    <tr>\n",
       "      <th>2017-01-06</th>\n",
       "      <td>117.91</td>\n",
       "      <td>74.16</td>\n",
       "      <td>22.6900</td>\n",
       "      <td>59.945</td>\n",
       "    </tr>\n",
       "    <tr>\n",
       "      <th>2017-01-09</th>\n",
       "      <td>119.00</td>\n",
       "      <td>73.10</td>\n",
       "      <td>22.5592</td>\n",
       "      <td>59.730</td>\n",
       "    </tr>\n",
       "  </tbody>\n",
       "</table>\n",
       "</div>"
      ],
      "text/plain": [
       "              AAPL    ALL      BAC     BMY\n",
       "2017-01-03  116.14  74.17  22.5300  59.470\n",
       "2017-01-04  116.02  72.42  22.9435  59.140\n",
       "2017-01-05  116.61  72.09  22.6700  60.130\n",
       "2017-01-06  117.91  74.16  22.6900  59.945\n",
       "2017-01-09  119.00  73.10  22.5592  59.730"
      ]
     },
     "execution_count": 23,
     "metadata": {},
     "output_type": "execute_result"
    }
   ],
   "source": [
    "# Format current date as ISO format\n",
    "start_date = pd.Timestamp(\"2017-01-01\", tz=\"America/New_York\").isoformat()\n",
    "end_date = pd.Timestamp(\"2019-12-31\", tz=\"America/New_York\").isoformat()\n",
    "\n",
    "# Set the tickers\n",
    "tickers = []\n",
    "tickers.extend(stocks_chosen)\n",
    "\n",
    "# Set timeframe to '1D' for Alpaca API\n",
    "timeframe = \"1D\"\n",
    "\n",
    "# Get current closing prices for SPY and AGG\n",
    "portfolio_df = api.get_barset(\n",
    "    tickers,\n",
    "    timeframe,\n",
    "    start = start_date,\n",
    "    end = end_date\n",
    ").df\n",
    "\n",
    "portfolio_df_closing_prices = pd.DataFrame()\n",
    "\n",
    "for ticker in tickers:\n",
    "    portfolio_df_closing_prices[ticker] = portfolio_df[ticker][\"close\"]\n",
    "\n",
    "portfolio_df_closing_prices.index = portfolio_df_closing_prices.index.date\n",
    "portfolio_df_closing_prices.head()"
   ]
  },
  {
   "cell_type": "code",
   "execution_count": 24,
   "metadata": {},
   "outputs": [
    {
     "data": {
      "text/html": [
       "<div>\n",
       "<style scoped>\n",
       "    .dataframe tbody tr th:only-of-type {\n",
       "        vertical-align: middle;\n",
       "    }\n",
       "\n",
       "    .dataframe tbody tr th {\n",
       "        vertical-align: top;\n",
       "    }\n",
       "\n",
       "    .dataframe thead th {\n",
       "        text-align: right;\n",
       "    }\n",
       "</style>\n",
       "<table border=\"1\" class=\"dataframe\">\n",
       "  <thead>\n",
       "    <tr style=\"text-align: right;\">\n",
       "      <th></th>\n",
       "      <th>AAPL</th>\n",
       "      <th>ALL</th>\n",
       "      <th>BAC</th>\n",
       "      <th>BMY</th>\n",
       "    </tr>\n",
       "  </thead>\n",
       "  <tbody>\n",
       "    <tr>\n",
       "      <th>2017-01-04</th>\n",
       "      <td>-0.001033</td>\n",
       "      <td>-0.023594</td>\n",
       "      <td>0.018353</td>\n",
       "      <td>-0.005549</td>\n",
       "    </tr>\n",
       "    <tr>\n",
       "      <th>2017-01-05</th>\n",
       "      <td>0.005085</td>\n",
       "      <td>-0.004557</td>\n",
       "      <td>-0.011921</td>\n",
       "      <td>0.016740</td>\n",
       "    </tr>\n",
       "    <tr>\n",
       "      <th>2017-01-06</th>\n",
       "      <td>0.011148</td>\n",
       "      <td>0.028714</td>\n",
       "      <td>0.000882</td>\n",
       "      <td>-0.003077</td>\n",
       "    </tr>\n",
       "    <tr>\n",
       "      <th>2017-01-09</th>\n",
       "      <td>0.009244</td>\n",
       "      <td>-0.014293</td>\n",
       "      <td>-0.005765</td>\n",
       "      <td>-0.003587</td>\n",
       "    </tr>\n",
       "    <tr>\n",
       "      <th>2017-01-10</th>\n",
       "      <td>0.000924</td>\n",
       "      <td>-0.017510</td>\n",
       "      <td>0.017323</td>\n",
       "      <td>0.004353</td>\n",
       "    </tr>\n",
       "  </tbody>\n",
       "</table>\n",
       "</div>"
      ],
      "text/plain": [
       "                AAPL       ALL       BAC       BMY\n",
       "2017-01-04 -0.001033 -0.023594  0.018353 -0.005549\n",
       "2017-01-05  0.005085 -0.004557 -0.011921  0.016740\n",
       "2017-01-06  0.011148  0.028714  0.000882 -0.003077\n",
       "2017-01-09  0.009244 -0.014293 -0.005765 -0.003587\n",
       "2017-01-10  0.000924 -0.017510  0.017323  0.004353"
      ]
     },
     "execution_count": 24,
     "metadata": {},
     "output_type": "execute_result"
    }
   ],
   "source": [
    "daily_returns = portfolio_df_closing_prices.pct_change().dropna()\n",
    "daily_returns.head()"
   ]
  },
  {
   "cell_type": "code",
   "execution_count": 25,
   "metadata": {},
   "outputs": [
    {
     "data": {
      "text/plain": [
       "AAPL    0.015618\n",
       "ALL     0.012895\n",
       "BAC     0.014604\n",
       "BMY     0.016598\n",
       "dtype: float64"
      ]
     },
     "execution_count": 25,
     "metadata": {},
     "output_type": "execute_result"
    }
   ],
   "source": [
    "daily_std = daily_returns.std()\n",
    "daily_std.head()"
   ]
  },
  {
   "cell_type": "code",
   "execution_count": 26,
   "metadata": {},
   "outputs": [
    {
     "data": {
      "text/plain": [
       "ALL     0.354562\n",
       "BAC     0.401547\n",
       "AAPL    0.429427\n",
       "BMY     0.456374\n",
       "dtype: float64"
      ]
     },
     "execution_count": 26,
     "metadata": {},
     "output_type": "execute_result"
    }
   ],
   "source": [
    "volatility = daily_std * np.sqrt(756)\n",
    "volatility.sort_values(inplace=True)\n",
    "volatility.head()"
   ]
  },
  {
   "cell_type": "code",
   "execution_count": 27,
   "metadata": {},
   "outputs": [
    {
     "data": {
      "text/html": [
       "<div>\n",
       "<style scoped>\n",
       "    .dataframe tbody tr th:only-of-type {\n",
       "        vertical-align: middle;\n",
       "    }\n",
       "\n",
       "    .dataframe tbody tr th {\n",
       "        vertical-align: top;\n",
       "    }\n",
       "\n",
       "    .dataframe thead th {\n",
       "        text-align: right;\n",
       "    }\n",
       "</style>\n",
       "<table border=\"1\" class=\"dataframe\">\n",
       "  <thead>\n",
       "    <tr style=\"text-align: right;\">\n",
       "      <th></th>\n",
       "      <th>AAPL</th>\n",
       "      <th>ALL</th>\n",
       "      <th>BAC</th>\n",
       "      <th>BMY</th>\n",
       "    </tr>\n",
       "  </thead>\n",
       "  <tbody>\n",
       "    <tr>\n",
       "      <th>2017-01-04</th>\n",
       "      <td>0.998967</td>\n",
       "      <td>0.976406</td>\n",
       "      <td>1.018353</td>\n",
       "      <td>0.994451</td>\n",
       "    </tr>\n",
       "    <tr>\n",
       "      <th>2017-01-05</th>\n",
       "      <td>1.004047</td>\n",
       "      <td>0.971956</td>\n",
       "      <td>1.006214</td>\n",
       "      <td>1.011098</td>\n",
       "    </tr>\n",
       "    <tr>\n",
       "      <th>2017-01-06</th>\n",
       "      <td>1.015240</td>\n",
       "      <td>0.999865</td>\n",
       "      <td>1.007102</td>\n",
       "      <td>1.007987</td>\n",
       "    </tr>\n",
       "    <tr>\n",
       "      <th>2017-01-09</th>\n",
       "      <td>1.024625</td>\n",
       "      <td>0.985574</td>\n",
       "      <td>1.001296</td>\n",
       "      <td>1.004372</td>\n",
       "    </tr>\n",
       "    <tr>\n",
       "      <th>2017-01-10</th>\n",
       "      <td>1.025573</td>\n",
       "      <td>0.968316</td>\n",
       "      <td>1.018642</td>\n",
       "      <td>1.008744</td>\n",
       "    </tr>\n",
       "  </tbody>\n",
       "</table>\n",
       "</div>"
      ],
      "text/plain": [
       "                AAPL       ALL       BAC       BMY\n",
       "2017-01-04  0.998967  0.976406  1.018353  0.994451\n",
       "2017-01-05  1.004047  0.971956  1.006214  1.011098\n",
       "2017-01-06  1.015240  0.999865  1.007102  1.007987\n",
       "2017-01-09  1.024625  0.985574  1.001296  1.004372\n",
       "2017-01-10  1.025573  0.968316  1.018642  1.008744"
      ]
     },
     "execution_count": 27,
     "metadata": {},
     "output_type": "execute_result"
    }
   ],
   "source": [
    "daily_cumulative_returns = (1+daily_returns).cumprod()\n",
    "daily_cumulative_returns.head()"
   ]
  },
  {
   "cell_type": "code",
   "execution_count": 34,
   "metadata": {},
   "outputs": [
    {
     "data": {
      "text/html": [
       "<div>\n",
       "<style scoped>\n",
       "    .dataframe tbody tr th:only-of-type {\n",
       "        vertical-align: middle;\n",
       "    }\n",
       "\n",
       "    .dataframe tbody tr th {\n",
       "        vertical-align: top;\n",
       "    }\n",
       "\n",
       "    .dataframe thead th {\n",
       "        text-align: right;\n",
       "    }\n",
       "</style>\n",
       "<table border=\"1\" class=\"dataframe\">\n",
       "  <thead>\n",
       "    <tr style=\"text-align: right;\">\n",
       "      <th></th>\n",
       "      <th>AAPL</th>\n",
       "      <th>ALL</th>\n",
       "      <th>BAC</th>\n",
       "      <th>BMY</th>\n",
       "    </tr>\n",
       "  </thead>\n",
       "  <tbody>\n",
       "    <tr>\n",
       "      <th>2019-12-31</th>\n",
       "      <td>1.526003</td>\n",
       "      <td>0.515572</td>\n",
       "      <td>0.562361</td>\n",
       "      <td>0.078525</td>\n",
       "    </tr>\n",
       "  </tbody>\n",
       "</table>\n",
       "</div>"
      ],
      "text/plain": [
       "                AAPL       ALL       BAC       BMY\n",
       "2019-12-31  1.526003  0.515572  0.562361  0.078525"
      ]
     },
     "execution_count": 34,
     "metadata": {},
     "output_type": "execute_result"
    }
   ],
   "source": [
    "#calculating holding period return\n",
    "beg_prices =portfolio_df_closing_prices.iloc[0]\n",
    "end_prices = portfolio_df_closing_prices.iloc[-1]\n",
    "\n",
    "holding_prices = pd.concat([beg_prices, end_prices], axis = 1, join=\"outer\")\n",
    "holding_prices = holding_prices.transpose()\n",
    "\n",
    "holding_period_return = holding_prices.pct_change().dropna()\n",
    "holding_period_return"
   ]
  },
  {
   "cell_type": "code",
   "execution_count": 36,
   "metadata": {},
   "outputs": [
    {
     "data": {
      "text/html": [
       "<div>\n",
       "<style scoped>\n",
       "    .dataframe tbody tr th:only-of-type {\n",
       "        vertical-align: middle;\n",
       "    }\n",
       "\n",
       "    .dataframe tbody tr th {\n",
       "        vertical-align: top;\n",
       "    }\n",
       "\n",
       "    .dataframe thead th {\n",
       "        text-align: right;\n",
       "    }\n",
       "</style>\n",
       "<table border=\"1\" class=\"dataframe\">\n",
       "  <thead>\n",
       "    <tr style=\"text-align: right;\">\n",
       "      <th></th>\n",
       "      <th>AAPL</th>\n",
       "      <th>ALL</th>\n",
       "      <th>BAC</th>\n",
       "      <th>BMY</th>\n",
       "    </tr>\n",
       "  </thead>\n",
       "  <tbody>\n",
       "    <tr>\n",
       "      <th>AAPL</th>\n",
       "      <td>1.000000</td>\n",
       "      <td>0.271241</td>\n",
       "      <td>0.419895</td>\n",
       "      <td>0.302903</td>\n",
       "    </tr>\n",
       "    <tr>\n",
       "      <th>ALL</th>\n",
       "      <td>0.271241</td>\n",
       "      <td>1.000000</td>\n",
       "      <td>0.397705</td>\n",
       "      <td>0.160032</td>\n",
       "    </tr>\n",
       "    <tr>\n",
       "      <th>BAC</th>\n",
       "      <td>0.419895</td>\n",
       "      <td>0.397705</td>\n",
       "      <td>1.000000</td>\n",
       "      <td>0.221342</td>\n",
       "    </tr>\n",
       "    <tr>\n",
       "      <th>BMY</th>\n",
       "      <td>0.302903</td>\n",
       "      <td>0.160032</td>\n",
       "      <td>0.221342</td>\n",
       "      <td>1.000000</td>\n",
       "    </tr>\n",
       "  </tbody>\n",
       "</table>\n",
       "</div>"
      ],
      "text/plain": [
       "          AAPL       ALL       BAC       BMY\n",
       "AAPL  1.000000  0.271241  0.419895  0.302903\n",
       "ALL   0.271241  1.000000  0.397705  0.160032\n",
       "BAC   0.419895  0.397705  1.000000  0.221342\n",
       "BMY   0.302903  0.160032  0.221342  1.000000"
      ]
     },
     "execution_count": 36,
     "metadata": {},
     "output_type": "execute_result"
    }
   ],
   "source": [
    "#correlation \n",
    "correlation = daily_returns.corr()\n",
    "correlation"
   ]
  },
  {
   "cell_type": "code",
   "execution_count": 37,
   "metadata": {},
   "outputs": [
    {
     "data": {
      "text/plain": [
       "AAPL    2.382812\n",
       "ALL     1.355210\n",
       "BAC     1.316792\n",
       "BMY     0.398867\n",
       "dtype: float64"
      ]
     },
     "execution_count": 37,
     "metadata": {},
     "output_type": "execute_result"
    }
   ],
   "source": [
    "## Evaluating Reward-to-risk (Sharpe Ratio) of each stock\n",
    "sharpe_ratios = (daily_returns.mean() * 756) / volatility\n",
    "sharpe_ratios"
   ]
  },
  {
   "cell_type": "code",
   "execution_count": null,
   "metadata": {},
   "outputs": [],
   "source": [
    "#monte_carlo"
   ]
  },
  {
   "cell_type": "code",
   "execution_count": null,
   "metadata": {},
   "outputs": [],
   "source": []
  },
  {
   "cell_type": "code",
   "execution_count": null,
   "metadata": {},
   "outputs": [],
   "source": [
    "threshold_window = tkinter.Tk()\n",
    "threshold_window.title(\"Risk Assessment & Rebalancing Criteria\")\n",
    "threshold_label_1 = tkinter.Label(threshold_window, text=\"Please let us know how risk averse you are:\")\n",
    "\n",
    "risk_level = [\n",
    "    \"Low Risk\",\n",
    "    \"Low-Medium Risk\",\n",
    "    \"Medium Risk\",\n",
    "    \"Medium-High Risk\",\n",
    "    \"High Risk\"\n",
    "]\n",
    "\n",
    "threshold_clicked = StringVar()\n",
    "threshold_clicked.set(risk_level[0]) # default value\n",
    "threshold_menu = OptionMenu(threshold_window, threshold_clicked, *risk_level)\n",
    "\n",
    "threshold_label_1.grid(row=0, column=0)\n",
    "threshold_menu.grid(row=0, column=1)\n",
    "\n",
    "chosen_risk = []\n",
    "def risk_choice():\n",
    "    chosen_risk.append(threshold_clicked.get())\n",
    "    print (\"You've selected \" + threshold_clicked.get())\n",
    "    \n",
    "threshold_button_1 = tkinter.Button(threshold_window, text=\"Select level of risk\", command=risk_choice)\n",
    "threshold_button_1.grid(row=1, column=0)\n",
    "\n",
    "threshold_window.mainloop()"
   ]
  },
  {
   "cell_type": "code",
   "execution_count": null,
   "metadata": {},
   "outputs": [],
   "source": [
    "risk_dict = {\n",
    "    \"Low Risk\":{\n",
    "        \"Upper Threshold\": 0.01,\n",
    "        \"Lower Threshold\": 0.001,\n",
    "    },\n",
    "    \"Low-Medium Risk\":{\n",
    "        \"Upper Threshold\": 0.1,\n",
    "        \"Lower Threshold\": 0.01,\n",
    "    },\n",
    "    \"Medium Risk\":{\n",
    "        \"Upper Threshold\": 0.3,\n",
    "        \"Lower Threshold\": 0.1,\n",
    "    },\n",
    "    \"Medium-High Risk\":{\n",
    "        \"Upper Threshold\": 0.5,\n",
    "        \"Lower Threshold\": 0.3,\n",
    "    },\n",
    "    \"High Risk\":{\n",
    "        \"Upper Threshold\": 0.7,\n",
    "        \"Lower Threshold\": 0.5,\n",
    "    },\n",
    "}"
   ]
  },
  {
   "cell_type": "code",
   "execution_count": null,
   "metadata": {},
   "outputs": [],
   "source": [
    "if chosen_risk == risk_dict[0]:\n",
    "    print(f\"We do not recommend the following {stock} because it's volatility is too high )\n",
    "    print(f\"However, we do recommend the following {stock} because it is highly correlated but with less volatility.\")\n",
    "elif chosen_risk == risk_dict[1]:\n",
    "    print(f\"We do not recommend the following {stock} because it's volatility is just a bit high based off of your preferences and our calculations.\")\n",
    "    print(f\"However, we do recommend the following {stock} because it is highly correlated but with less volatility.\")\n",
    "elif chosen_risk == risk_dict[2]:\n",
    "    print(f\"We do not recommend the following {stock} because it's volatility is just a bit high based off of your preferences and our calculations.\")\n",
    "    print(f\"However, we do recommend the following {stock} because it is highly correlated but with less volatility.\")\n",
    "elif chosen_risk == risk_dict[3]:\n",
    "    print(f\"We do not recommend the following {stock} because it's volatility is just a bit low based off of your preferences and our calculations.\")\n",
    "    print(f\"However, we do recommend the following {stock} because it is highly correlated but with more volatility.\")\n",
    "elif chosen_risk == risk_dict[4]:\n",
    "    print(f\"We do not recommend the following {stock} because it's volatility is just a bit low based off of your preferences and our calculations.\")\n",
    "    print(f\"However, we do recommend the following {stock} because it is highly correlated but with more volatility.\")"
   ]
  }
 ],
 "metadata": {
  "kernelspec": {
   "display_name": "Python [conda env:pyvizenv] *",
   "language": "python",
   "name": "conda-env-pyvizenv-py"
  },
  "language_info": {
   "codemirror_mode": {
    "name": "ipython",
    "version": 3
   },
   "file_extension": ".py",
   "mimetype": "text/x-python",
   "name": "python",
   "nbconvert_exporter": "python",
   "pygments_lexer": "ipython3",
   "version": "3.7.7"
  }
 },
 "nbformat": 4,
 "nbformat_minor": 4
}
